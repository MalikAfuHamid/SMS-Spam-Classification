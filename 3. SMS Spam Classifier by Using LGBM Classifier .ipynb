{
 "cells": [
  {
   "cell_type": "markdown",
   "id": "17c8de88",
   "metadata": {},
   "source": [
    "# 1. Import Libraries"
   ]
  },
  {
   "cell_type": "code",
   "execution_count": 1,
   "id": "3ea8ed4f",
   "metadata": {},
   "outputs": [],
   "source": [
    "import numpy as np\n",
    "import pandas as pd\n",
    "\n",
    "from sklearn.model_selection import train_test_split\n",
    "from sklearn.pipeline import Pipeline\n",
    "from sklearn.compose import ColumnTransformer\n",
    "\n",
    "from jcopml.pipeline import num_pipe, cat_pipe\n",
    "from jcopml.utils import save_model, load_model\n",
    "from jcopml.plot import plot_missing_value\n",
    "from jcopml.feature_importance import mean_score_decrease\n",
    "\n",
    "from jcopml.plot import plot_missing_value\n",
    "from jcopml.plot import plot_confusion_matrix\n",
    "from jcopml.plot import plot_roc_curve\n",
    "from jcopml.plot import plot_classification_report\n",
    "from jcopml.plot import plot_pr_curve\n",
    "\n",
    "from nltk.tokenize import word_tokenize\n",
    "from nltk.corpus import stopwords\n",
    "from string import punctuation\n",
    "\n",
    "sw_indo = stopwords.words('indonesian') \n",
    "\n",
    "import seaborn as sns"
   ]
  },
  {
   "cell_type": "markdown",
   "id": "c65a986e",
   "metadata": {},
   "source": [
    "# 2. Import Dataset"
   ]
  },
  {
   "cell_type": "code",
   "execution_count": 2,
   "id": "8dc29a0d",
   "metadata": {},
   "outputs": [
    {
     "data": {
      "text/html": [
       "<div>\n",
       "<style scoped>\n",
       "    .dataframe tbody tr th:only-of-type {\n",
       "        vertical-align: middle;\n",
       "    }\n",
       "\n",
       "    .dataframe tbody tr th {\n",
       "        vertical-align: top;\n",
       "    }\n",
       "\n",
       "    .dataframe thead th {\n",
       "        text-align: right;\n",
       "    }\n",
       "</style>\n",
       "<table border=\"1\" class=\"dataframe\">\n",
       "  <thead>\n",
       "    <tr style=\"text-align: right;\">\n",
       "      <th></th>\n",
       "      <th>Teks</th>\n",
       "      <th>label</th>\n",
       "    </tr>\n",
       "  </thead>\n",
       "  <tbody>\n",
       "    <tr>\n",
       "      <th>0</th>\n",
       "      <td>[PROMO] Beli paket Flash mulai 1GB di MY TELKO...</td>\n",
       "      <td>1</td>\n",
       "    </tr>\n",
       "    <tr>\n",
       "      <th>1</th>\n",
       "      <td>2.5 GB/30 hari hanya Rp 35 Ribu Spesial buat A...</td>\n",
       "      <td>1</td>\n",
       "    </tr>\n",
       "    <tr>\n",
       "      <th>2</th>\n",
       "      <td>2016-07-08 11:47:11.Plg Yth, sisa kuota Flash ...</td>\n",
       "      <td>1</td>\n",
       "    </tr>\n",
       "    <tr>\n",
       "      <th>3</th>\n",
       "      <td>2016-08-07 11:29:47.Plg Yth, sisa kuota Flash ...</td>\n",
       "      <td>1</td>\n",
       "    </tr>\n",
       "    <tr>\n",
       "      <th>4</th>\n",
       "      <td>4.5GB/30 hari hanya Rp 55 Ribu Spesial buat an...</td>\n",
       "      <td>1</td>\n",
       "    </tr>\n",
       "    <tr>\n",
       "      <th>...</th>\n",
       "      <td>...</td>\n",
       "      <td>...</td>\n",
       "    </tr>\n",
       "    <tr>\n",
       "      <th>1138</th>\n",
       "      <td>Yooo sama2, oke nanti aku umumin di grup kelas</td>\n",
       "      <td>0</td>\n",
       "    </tr>\n",
       "    <tr>\n",
       "      <th>1139</th>\n",
       "      <td>😁 sebelumnya ga ad nulis kerudung. Kirain warn...</td>\n",
       "      <td>0</td>\n",
       "    </tr>\n",
       "    <tr>\n",
       "      <th>1140</th>\n",
       "      <td>Mba mau kirim 300 ya</td>\n",
       "      <td>0</td>\n",
       "    </tr>\n",
       "    <tr>\n",
       "      <th>1141</th>\n",
       "      <td>nama1  beaok bwrangkat pagi...mau cas atay tra...</td>\n",
       "      <td>0</td>\n",
       "    </tr>\n",
       "    <tr>\n",
       "      <th>1142</th>\n",
       "      <td>No bri atas nama kamu mana</td>\n",
       "      <td>0</td>\n",
       "    </tr>\n",
       "  </tbody>\n",
       "</table>\n",
       "<p>1143 rows × 2 columns</p>\n",
       "</div>"
      ],
      "text/plain": [
       "                                                   Teks  label\n",
       "0     [PROMO] Beli paket Flash mulai 1GB di MY TELKO...      1\n",
       "1     2.5 GB/30 hari hanya Rp 35 Ribu Spesial buat A...      1\n",
       "2     2016-07-08 11:47:11.Plg Yth, sisa kuota Flash ...      1\n",
       "3     2016-08-07 11:29:47.Plg Yth, sisa kuota Flash ...      1\n",
       "4     4.5GB/30 hari hanya Rp 55 Ribu Spesial buat an...      1\n",
       "...                                                 ...    ...\n",
       "1138     Yooo sama2, oke nanti aku umumin di grup kelas      0\n",
       "1139  😁 sebelumnya ga ad nulis kerudung. Kirain warn...      0\n",
       "1140                               Mba mau kirim 300 ya      0\n",
       "1141  nama1  beaok bwrangkat pagi...mau cas atay tra...      0\n",
       "1142                         No bri atas nama kamu mana      0\n",
       "\n",
       "[1143 rows x 2 columns]"
      ]
     },
     "execution_count": 2,
     "metadata": {},
     "output_type": "execute_result"
    }
   ],
   "source": [
    "df = pd.read_csv('spam.csv')\n",
    "df"
   ]
  },
  {
   "cell_type": "markdown",
   "id": "d3d92b4a",
   "metadata": {},
   "source": [
    "# 3. Exploratory Data Analysis (EDA)"
   ]
  },
  {
   "cell_type": "markdown",
   "id": "ced7e116",
   "metadata": {},
   "source": [
    "### Data Information"
   ]
  },
  {
   "cell_type": "code",
   "execution_count": 3,
   "id": "21923656",
   "metadata": {},
   "outputs": [
    {
     "name": "stdout",
     "output_type": "stream",
     "text": [
      "<class 'pandas.core.frame.DataFrame'>\n",
      "RangeIndex: 1143 entries, 0 to 1142\n",
      "Data columns (total 2 columns):\n",
      " #   Column  Non-Null Count  Dtype \n",
      "---  ------  --------------  ----- \n",
      " 0   Teks    1143 non-null   object\n",
      " 1   label   1143 non-null   int64 \n",
      "dtypes: int64(1), object(1)\n",
      "memory usage: 18.0+ KB\n"
     ]
    }
   ],
   "source": [
    "df.info()"
   ]
  },
  {
   "cell_type": "code",
   "execution_count": 4,
   "id": "56474ee1",
   "metadata": {},
   "outputs": [
    {
     "data": {
      "text/plain": [
       "(1143, 2)"
      ]
     },
     "execution_count": 4,
     "metadata": {},
     "output_type": "execute_result"
    }
   ],
   "source": [
    "df.shape"
   ]
  },
  {
   "cell_type": "code",
   "execution_count": 5,
   "id": "b8053f7f",
   "metadata": {},
   "outputs": [
    {
     "data": {
      "image/png": "[encoded data removed]",
      "text/plain": [
       "<Figure size 1080x576 with 1 Axes>"
      ]
     },
     "metadata": {
      "needs_background": "light"
     },
     "output_type": "display_data"
    }
   ],
   "source": [
    "plot_missing_value(df)"
   ]
  },
  {
   "cell_type": "markdown",
   "id": "9cfb4556",
   "metadata": {},
   "source": [
    "### Data Description"
   ]
  },
  {
   "cell_type": "code",
   "execution_count": 6,
   "id": "5e4955a2",
   "metadata": {},
   "outputs": [
    {
     "data": {
      "text/html": [
       "<div>\n",
       "<style scoped>\n",
       "    .dataframe tbody tr th:only-of-type {\n",
       "        vertical-align: middle;\n",
       "    }\n",
       "\n",
       "    .dataframe tbody tr th {\n",
       "        vertical-align: top;\n",
       "    }\n",
       "\n",
       "    .dataframe thead th {\n",
       "        text-align: right;\n",
       "    }\n",
       "</style>\n",
       "<table border=\"1\" class=\"dataframe\">\n",
       "  <thead>\n",
       "    <tr style=\"text-align: right;\">\n",
       "      <th></th>\n",
       "      <th>Teks</th>\n",
       "      <th>label</th>\n",
       "    </tr>\n",
       "  </thead>\n",
       "  <tbody>\n",
       "    <tr>\n",
       "      <th>0</th>\n",
       "      <td>[PROMO] Beli paket Flash mulai 1GB di MY TELKO...</td>\n",
       "      <td>1</td>\n",
       "    </tr>\n",
       "    <tr>\n",
       "      <th>1</th>\n",
       "      <td>2.5 GB/30 hari hanya Rp 35 Ribu Spesial buat A...</td>\n",
       "      <td>1</td>\n",
       "    </tr>\n",
       "    <tr>\n",
       "      <th>2</th>\n",
       "      <td>2016-07-08 11:47:11.Plg Yth, sisa kuota Flash ...</td>\n",
       "      <td>1</td>\n",
       "    </tr>\n",
       "    <tr>\n",
       "      <th>3</th>\n",
       "      <td>2016-08-07 11:29:47.Plg Yth, sisa kuota Flash ...</td>\n",
       "      <td>1</td>\n",
       "    </tr>\n",
       "    <tr>\n",
       "      <th>4</th>\n",
       "      <td>4.5GB/30 hari hanya Rp 55 Ribu Spesial buat an...</td>\n",
       "      <td>1</td>\n",
       "    </tr>\n",
       "  </tbody>\n",
       "</table>\n",
       "</div>"
      ],
      "text/plain": [
       "                                                Teks  label\n",
       "0  [PROMO] Beli paket Flash mulai 1GB di MY TELKO...      1\n",
       "1  2.5 GB/30 hari hanya Rp 35 Ribu Spesial buat A...      1\n",
       "2  2016-07-08 11:47:11.Plg Yth, sisa kuota Flash ...      1\n",
       "3  2016-08-07 11:29:47.Plg Yth, sisa kuota Flash ...      1\n",
       "4  4.5GB/30 hari hanya Rp 55 Ribu Spesial buat an...      1"
      ]
     },
     "execution_count": 6,
     "metadata": {},
     "output_type": "execute_result"
    }
   ],
   "source": [
    "df.head()"
   ]
  },
  {
   "cell_type": "code",
   "execution_count": 7,
   "id": "a885a605",
   "metadata": {},
   "outputs": [
    {
     "data": {
      "text/html": [
       "<div>\n",
       "<style scoped>\n",
       "    .dataframe tbody tr th:only-of-type {\n",
       "        vertical-align: middle;\n",
       "    }\n",
       "\n",
       "    .dataframe tbody tr th {\n",
       "        vertical-align: top;\n",
       "    }\n",
       "\n",
       "    .dataframe thead th {\n",
       "        text-align: right;\n",
       "    }\n",
       "</style>\n",
       "<table border=\"1\" class=\"dataframe\">\n",
       "  <thead>\n",
       "    <tr style=\"text-align: right;\">\n",
       "      <th></th>\n",
       "      <th>label</th>\n",
       "    </tr>\n",
       "  </thead>\n",
       "  <tbody>\n",
       "    <tr>\n",
       "      <th>count</th>\n",
       "      <td>1143.000000</td>\n",
       "    </tr>\n",
       "    <tr>\n",
       "      <th>mean</th>\n",
       "      <td>0.502187</td>\n",
       "    </tr>\n",
       "    <tr>\n",
       "      <th>std</th>\n",
       "      <td>0.500214</td>\n",
       "    </tr>\n",
       "    <tr>\n",
       "      <th>min</th>\n",
       "      <td>0.000000</td>\n",
       "    </tr>\n",
       "    <tr>\n",
       "      <th>25%</th>\n",
       "      <td>0.000000</td>\n",
       "    </tr>\n",
       "    <tr>\n",
       "      <th>50%</th>\n",
       "      <td>1.000000</td>\n",
       "    </tr>\n",
       "    <tr>\n",
       "      <th>75%</th>\n",
       "      <td>1.000000</td>\n",
       "    </tr>\n",
       "    <tr>\n",
       "      <th>max</th>\n",
       "      <td>1.000000</td>\n",
       "    </tr>\n",
       "  </tbody>\n",
       "</table>\n",
       "</div>"
      ],
      "text/plain": [
       "             label\n",
       "count  1143.000000\n",
       "mean      0.502187\n",
       "std       0.500214\n",
       "min       0.000000\n",
       "25%       0.000000\n",
       "50%       1.000000\n",
       "75%       1.000000\n",
       "max       1.000000"
      ]
     },
     "execution_count": 7,
     "metadata": {},
     "output_type": "execute_result"
    }
   ],
   "source": [
    "df.describe()"
   ]
  },
  {
   "cell_type": "code",
   "execution_count": 8,
   "id": "c94f304a",
   "metadata": {},
   "outputs": [
    {
     "data": {
      "text/html": [
       "<div>\n",
       "<style scoped>\n",
       "    .dataframe tbody tr th:only-of-type {\n",
       "        vertical-align: middle;\n",
       "    }\n",
       "\n",
       "    .dataframe tbody tr th {\n",
       "        vertical-align: top;\n",
       "    }\n",
       "\n",
       "    .dataframe thead tr th {\n",
       "        text-align: left;\n",
       "    }\n",
       "\n",
       "    .dataframe thead tr:last-of-type th {\n",
       "        text-align: right;\n",
       "    }\n",
       "</style>\n",
       "<table border=\"1\" class=\"dataframe\">\n",
       "  <thead>\n",
       "    <tr>\n",
       "      <th></th>\n",
       "      <th colspan=\"4\" halign=\"left\">Teks</th>\n",
       "    </tr>\n",
       "    <tr>\n",
       "      <th></th>\n",
       "      <th>count</th>\n",
       "      <th>unique</th>\n",
       "      <th>top</th>\n",
       "      <th>freq</th>\n",
       "    </tr>\n",
       "    <tr>\n",
       "      <th>label</th>\n",
       "      <th></th>\n",
       "      <th></th>\n",
       "      <th></th>\n",
       "      <th></th>\n",
       "    </tr>\n",
       "  </thead>\n",
       "  <tbody>\n",
       "    <tr>\n",
       "      <th>0</th>\n",
       "      <td>569</td>\n",
       "      <td>568</td>\n",
       "      <td>bebas nama1, terus nanti kalau ada tgl libur, ...</td>\n",
       "      <td>2</td>\n",
       "    </tr>\n",
       "    <tr>\n",
       "      <th>1</th>\n",
       "      <td>574</td>\n",
       "      <td>574</td>\n",
       "      <td>[PROMO] Beli paket Flash mulai 1GB di MY TELKO...</td>\n",
       "      <td>1</td>\n",
       "    </tr>\n",
       "  </tbody>\n",
       "</table>\n",
       "</div>"
      ],
      "text/plain": [
       "       Teks                                                               \n",
       "      count unique                                                top freq\n",
       "label                                                                     \n",
       "0       569    568  bebas nama1, terus nanti kalau ada tgl libur, ...    2\n",
       "1       574    574  [PROMO] Beli paket Flash mulai 1GB di MY TELKO...    1"
      ]
     },
     "execution_count": 8,
     "metadata": {},
     "output_type": "execute_result"
    }
   ],
   "source": [
    "df.groupby('label').describe()"
   ]
  },
  {
   "cell_type": "markdown",
   "id": "2040eb1a",
   "metadata": {},
   "source": [
    "```json\n",
    "The dataset explains 569 texts is not spam and 574 texts is spam.\n",
    "```"
   ]
  },
  {
   "cell_type": "markdown",
   "id": "b004760a",
   "metadata": {},
   "source": [
    "### Count a Character in Text Message"
   ]
  },
  {
   "cell_type": "code",
   "execution_count": 9,
   "id": "4180f8dd",
   "metadata": {},
   "outputs": [
    {
     "data": {
      "text/html": [
       "<div>\n",
       "<style scoped>\n",
       "    .dataframe tbody tr th:only-of-type {\n",
       "        vertical-align: middle;\n",
       "    }\n",
       "\n",
       "    .dataframe tbody tr th {\n",
       "        vertical-align: top;\n",
       "    }\n",
       "\n",
       "    .dataframe thead th {\n",
       "        text-align: right;\n",
       "    }\n",
       "</style>\n",
       "<table border=\"1\" class=\"dataframe\">\n",
       "  <thead>\n",
       "    <tr style=\"text-align: right;\">\n",
       "      <th></th>\n",
       "      <th>Teks</th>\n",
       "      <th>label</th>\n",
       "      <th>Character</th>\n",
       "    </tr>\n",
       "  </thead>\n",
       "  <tbody>\n",
       "    <tr>\n",
       "      <th>0</th>\n",
       "      <td>[PROMO] Beli paket Flash mulai 1GB di MY TELKO...</td>\n",
       "      <td>1</td>\n",
       "      <td>153</td>\n",
       "    </tr>\n",
       "    <tr>\n",
       "      <th>1</th>\n",
       "      <td>2.5 GB/30 hari hanya Rp 35 Ribu Spesial buat A...</td>\n",
       "      <td>1</td>\n",
       "      <td>152</td>\n",
       "    </tr>\n",
       "    <tr>\n",
       "      <th>2</th>\n",
       "      <td>2016-07-08 11:47:11.Plg Yth, sisa kuota Flash ...</td>\n",
       "      <td>1</td>\n",
       "      <td>152</td>\n",
       "    </tr>\n",
       "    <tr>\n",
       "      <th>3</th>\n",
       "      <td>2016-08-07 11:29:47.Plg Yth, sisa kuota Flash ...</td>\n",
       "      <td>1</td>\n",
       "      <td>153</td>\n",
       "    </tr>\n",
       "    <tr>\n",
       "      <th>4</th>\n",
       "      <td>4.5GB/30 hari hanya Rp 55 Ribu Spesial buat an...</td>\n",
       "      <td>1</td>\n",
       "      <td>113</td>\n",
       "    </tr>\n",
       "  </tbody>\n",
       "</table>\n",
       "</div>"
      ],
      "text/plain": [
       "                                                Teks  label  Character\n",
       "0  [PROMO] Beli paket Flash mulai 1GB di MY TELKO...      1        153\n",
       "1  2.5 GB/30 hari hanya Rp 35 Ribu Spesial buat A...      1        152\n",
       "2  2016-07-08 11:47:11.Plg Yth, sisa kuota Flash ...      1        152\n",
       "3  2016-08-07 11:29:47.Plg Yth, sisa kuota Flash ...      1        153\n",
       "4  4.5GB/30 hari hanya Rp 55 Ribu Spesial buat an...      1        113"
      ]
     },
     "execution_count": 9,
     "metadata": {},
     "output_type": "execute_result"
    }
   ],
   "source": [
    "df['Character'] = df['Teks'].apply(len)\n",
    "df.head()"
   ]
  },
  {
   "cell_type": "code",
   "execution_count": 10,
   "id": "7dfafff3",
   "metadata": {},
   "outputs": [
    {
     "data": {
      "text/plain": [
       "<AxesSubplot:ylabel='Frequency'>"
      ]
     },
     "execution_count": 10,
     "metadata": {},
     "output_type": "execute_result"
    },
    {
     "data": {
      "image/png": "[encoded data removed]",
      "text/plain": [
       "<Figure size 432x288 with 1 Axes>"
      ]
     },
     "metadata": {
      "needs_background": "light"
     },
     "output_type": "display_data"
    }
   ],
   "source": [
    "# Visualize a length of Character in text message\n",
    "\n",
    "df['Character'].plot.hist(bins = 150, edgecolor='black')"
   ]
  },
  {
   "cell_type": "code",
   "execution_count": 11,
   "id": "9ff1beee",
   "metadata": {},
   "outputs": [
    {
     "data": {
      "text/plain": [
       "count    1143.000000\n",
       "mean      108.736658\n",
       "std        59.076768\n",
       "min        13.000000\n",
       "25%        58.000000\n",
       "50%       113.000000\n",
       "75%       152.000000\n",
       "max       434.000000\n",
       "Name: Character, dtype: float64"
      ]
     },
     "execution_count": 11,
     "metadata": {},
     "output_type": "execute_result"
    }
   ],
   "source": [
    "df.Character.describe()"
   ]
  },
  {
   "cell_type": "code",
   "execution_count": 12,
   "id": "2a2f30c4",
   "metadata": {},
   "outputs": [
    {
     "data": {
      "text/plain": [
       "\"pesan dari nama1 : Assalamu'alaikum wr.wb. Pak, Indonesia Android Kejar bekerjasama dengan Depilkom mau mengadakan pelatihan Android level intermediate, masih ada slot 2 orang lagi, syaratnya sudah pernah membuat app android dan ngebuild menggunakan Android Studio, barang kali di kelas Bapak ada yang berminat. Nuhun.o ya pelatihannya mulai hari sabtu besok, 2 April, setiap sabtu selama 7 pertemuan, bertempat di lab praktikum kita.\""
      ]
     },
     "execution_count": 12,
     "metadata": {},
     "output_type": "execute_result"
    }
   ],
   "source": [
    "#Grab the maximum character in text message\n",
    "\n",
    "df[df['Character'] == 434]['Teks'].iloc[0]"
   ]
  },
  {
   "cell_type": "markdown",
   "id": "ccbabf58",
   "metadata": {},
   "source": [
    "### Visualize Label Distribution"
   ]
  },
  {
   "cell_type": "code",
   "execution_count": 13,
   "id": "911da9f1",
   "metadata": {},
   "outputs": [
    {
     "data": {
      "text/plain": [
       "array([<AxesSubplot:title={'center':'0'}>,\n",
       "       <AxesSubplot:title={'center':'1'}>], dtype=object)"
      ]
     },
     "execution_count": 13,
     "metadata": {},
     "output_type": "execute_result"
    },
    {
     "data": {
      "image/png": "[encoded data removed]",
      "text/plain": [
       "<Figure size 864x288 with 2 Axes>"
      ]
     },
     "metadata": {
      "needs_background": "light"
     },
     "output_type": "display_data"
    }
   ],
   "source": [
    "df.hist(column='Character', by='label', bins =60, figsize=(12,4), edgecolor='black')"
   ]
  },
  {
   "cell_type": "markdown",
   "id": "174316a2",
   "metadata": {},
   "source": [
    "## Cleaning Dataset"
   ]
  },
  {
   "cell_type": "code",
   "execution_count": 14,
   "id": "f8101208",
   "metadata": {},
   "outputs": [
    {
     "data": {
      "text/html": [
       "<div>\n",
       "<style scoped>\n",
       "    .dataframe tbody tr th:only-of-type {\n",
       "        vertical-align: middle;\n",
       "    }\n",
       "\n",
       "    .dataframe tbody tr th {\n",
       "        vertical-align: top;\n",
       "    }\n",
       "\n",
       "    .dataframe thead th {\n",
       "        text-align: right;\n",
       "    }\n",
       "</style>\n",
       "<table border=\"1\" class=\"dataframe\">\n",
       "  <thead>\n",
       "    <tr style=\"text-align: right;\">\n",
       "      <th></th>\n",
       "      <th>Teks</th>\n",
       "      <th>label</th>\n",
       "      <th>Character</th>\n",
       "    </tr>\n",
       "  </thead>\n",
       "  <tbody>\n",
       "    <tr>\n",
       "      <th>0</th>\n",
       "      <td>[PROMO] Beli paket Flash mulai 1GB di MY TELKO...</td>\n",
       "      <td>1</td>\n",
       "      <td>153</td>\n",
       "    </tr>\n",
       "    <tr>\n",
       "      <th>1</th>\n",
       "      <td>2.5 GB/30 hari hanya Rp 35 Ribu Spesial buat A...</td>\n",
       "      <td>1</td>\n",
       "      <td>152</td>\n",
       "    </tr>\n",
       "    <tr>\n",
       "      <th>2</th>\n",
       "      <td>2016-07-08 11:47:11.Plg Yth, sisa kuota Flash ...</td>\n",
       "      <td>1</td>\n",
       "      <td>152</td>\n",
       "    </tr>\n",
       "    <tr>\n",
       "      <th>3</th>\n",
       "      <td>2016-08-07 11:29:47.Plg Yth, sisa kuota Flash ...</td>\n",
       "      <td>1</td>\n",
       "      <td>153</td>\n",
       "    </tr>\n",
       "    <tr>\n",
       "      <th>4</th>\n",
       "      <td>4.5GB/30 hari hanya Rp 55 Ribu Spesial buat an...</td>\n",
       "      <td>1</td>\n",
       "      <td>113</td>\n",
       "    </tr>\n",
       "    <tr>\n",
       "      <th>...</th>\n",
       "      <td>...</td>\n",
       "      <td>...</td>\n",
       "      <td>...</td>\n",
       "    </tr>\n",
       "    <tr>\n",
       "      <th>1138</th>\n",
       "      <td>Yooo sama2, oke nanti aku umumin di grup kelas</td>\n",
       "      <td>0</td>\n",
       "      <td>46</td>\n",
       "    </tr>\n",
       "    <tr>\n",
       "      <th>1139</th>\n",
       "      <td>😁 sebelumnya ga ad nulis kerudung. Kirain warn...</td>\n",
       "      <td>0</td>\n",
       "      <td>52</td>\n",
       "    </tr>\n",
       "    <tr>\n",
       "      <th>1140</th>\n",
       "      <td>Mba mau kirim 300 ya</td>\n",
       "      <td>0</td>\n",
       "      <td>20</td>\n",
       "    </tr>\n",
       "    <tr>\n",
       "      <th>1141</th>\n",
       "      <td>nama1  beaok bwrangkat pagi...mau cas atay tra...</td>\n",
       "      <td>0</td>\n",
       "      <td>51</td>\n",
       "    </tr>\n",
       "    <tr>\n",
       "      <th>1142</th>\n",
       "      <td>No bri atas nama kamu mana</td>\n",
       "      <td>0</td>\n",
       "      <td>26</td>\n",
       "    </tr>\n",
       "  </tbody>\n",
       "</table>\n",
       "<p>1143 rows × 3 columns</p>\n",
       "</div>"
      ],
      "text/plain": [
       "                                                   Teks  label  Character\n",
       "0     [PROMO] Beli paket Flash mulai 1GB di MY TELKO...      1        153\n",
       "1     2.5 GB/30 hari hanya Rp 35 Ribu Spesial buat A...      1        152\n",
       "2     2016-07-08 11:47:11.Plg Yth, sisa kuota Flash ...      1        152\n",
       "3     2016-08-07 11:29:47.Plg Yth, sisa kuota Flash ...      1        153\n",
       "4     4.5GB/30 hari hanya Rp 55 Ribu Spesial buat an...      1        113\n",
       "...                                                 ...    ...        ...\n",
       "1138     Yooo sama2, oke nanti aku umumin di grup kelas      0         46\n",
       "1139  😁 sebelumnya ga ad nulis kerudung. Kirain warn...      0         52\n",
       "1140                               Mba mau kirim 300 ya      0         20\n",
       "1141  nama1  beaok bwrangkat pagi...mau cas atay tra...      0         51\n",
       "1142                         No bri atas nama kamu mana      0         26\n",
       "\n",
       "[1143 rows x 3 columns]"
      ]
     },
     "execution_count": 14,
     "metadata": {},
     "output_type": "execute_result"
    }
   ],
   "source": [
    "df"
   ]
  },
  {
   "cell_type": "code",
   "execution_count": 15,
   "id": "bff154cc",
   "metadata": {},
   "outputs": [],
   "source": [
    "import re"
   ]
  },
  {
   "cell_type": "code",
   "execution_count": 16,
   "id": "9731c415",
   "metadata": {},
   "outputs": [],
   "source": [
    "def clean_data(text):\n",
    "    text = text.lower()\n",
    "    clean_word = word_tokenize(text)\n",
    "    clean_word = [word for word in clean_word if word not in punctuation]\n",
    "    clean_word = [word for word in clean_word if word not in sw_indo]\n",
    "    emoji_removal = re.compile(\"[\"\n",
    "        u\"\\U0001F600-\\U0001F64F\"  # emoticons\n",
    "        u\"\\U0001F300-\\U0001F5FF\"  # symbols & pictographs\n",
    "        u\"\\U0001F680-\\U0001F6FF\"  # transport & map symbols\n",
    "        u\"\\U0001F1E0-\\U0001F1FF\"  # flags (iOS)\n",
    "                           \"]+\", flags=re.UNICODE)\n",
    "    clean_word = ' '.join(clean_word)\n",
    "    return emoji_removal.sub(r'', clean_word)"
   ]
  },
  {
   "cell_type": "code",
   "execution_count": 17,
   "id": "db64da50",
   "metadata": {},
   "outputs": [
    {
     "data": {
      "text/plain": [
       "0       promo beli paket flash 1gb my telkomsel app dp...\n",
       "1       2.5 gb/30 rp 35 ribu spesial terpilih aktifkan...\n",
       "2       2016-07-08 11:47:11.plg yth sisa kuota flash 4...\n",
       "3       2016-08-07 11:29:47.plg yth sisa kuota flash 7...\n",
       "4       4.5gb/30 rp 55 ribu spesial terpilih aktifkan ...\n",
       "                              ...                        \n",
       "1138                     yooo sama2 oke umumin grup kelas\n",
       "1139               ga ad nulis kerudung kirain warna jins\n",
       "1140                                     mba kirim 300 ya\n",
       "1141      nama1 beaok bwrangkat pagi ... cas atay tranfer\n",
       "1142                                          no bri nama\n",
       "Name: Teks, Length: 1143, dtype: object"
      ]
     },
     "execution_count": 17,
     "metadata": {},
     "output_type": "execute_result"
    }
   ],
   "source": [
    "df.Teks = df.Teks.apply(clean_data)\n",
    "df.Teks"
   ]
  },
  {
   "cell_type": "markdown",
   "id": "785a541f",
   "metadata": {},
   "source": [
    "## Check Imbalanced Dataset"
   ]
  },
  {
   "cell_type": "code",
   "execution_count": 18,
   "id": "5ad93749",
   "metadata": {},
   "outputs": [
    {
     "name": "stderr",
     "output_type": "stream",
     "text": [
      "C:\\Users\\Malik Afu Hamid\\anaconda3\\lib\\site-packages\\seaborn\\_decorators.py:36: FutureWarning: Pass the following variable as a keyword arg: x. From version 0.12, the only valid positional argument will be `data`, and passing other arguments without an explicit keyword will result in an error or misinterpretation.\n",
      "  warnings.warn(\n"
     ]
    },
    {
     "data": {
      "text/plain": [
       "<AxesSubplot:xlabel='label', ylabel='count'>"
      ]
     },
     "execution_count": 18,
     "metadata": {},
     "output_type": "execute_result"
    },
    {
     "data": {
      "image/png": "[encoded data removed]",
      "text/plain": [
       "<Figure size 432x288 with 1 Axes>"
      ]
     },
     "metadata": {
      "needs_background": "light"
     },
     "output_type": "display_data"
    }
   ],
   "source": [
    "sns.countplot(df.label)"
   ]
  },
  {
   "cell_type": "code",
   "execution_count": 19,
   "id": "6e4aad94",
   "metadata": {},
   "outputs": [
    {
     "data": {
      "text/plain": [
       "1    574\n",
       "0    569\n",
       "Name: label, dtype: int64"
      ]
     },
     "execution_count": 19,
     "metadata": {},
     "output_type": "execute_result"
    }
   ],
   "source": [
    "df.label.value_counts()"
   ]
  },
  {
   "cell_type": "markdown",
   "id": "d5c07223",
   "metadata": {},
   "source": [
    "```json\n",
    "The dataset is balanced.\n",
    "```"
   ]
  },
  {
   "cell_type": "markdown",
   "id": "d3a00b54",
   "metadata": {},
   "source": [
    "# 4. Dataset Splitting"
   ]
  },
  {
   "cell_type": "code",
   "execution_count": 20,
   "id": "c6ecf6e3",
   "metadata": {},
   "outputs": [
    {
     "data": {
      "text/plain": [
       "((914,), (229,), (914,), (229,))"
      ]
     },
     "execution_count": 20,
     "metadata": {},
     "output_type": "execute_result"
    }
   ],
   "source": [
    "X = df.Teks\n",
    "y = df.label\n",
    "\n",
    "X_train, X_test, y_train, y_test = train_test_split(X, y, test_size=0.2, stratify=y, random_state=42)\n",
    "X_train.shape, X_test.shape, y_train.shape, y_test.shape"
   ]
  },
  {
   "cell_type": "markdown",
   "id": "3bbb2609",
   "metadata": {},
   "source": [
    "# 5. Modeling"
   ]
  },
  {
   "cell_type": "code",
   "execution_count": 21,
   "id": "a7975bb2",
   "metadata": {},
   "outputs": [],
   "source": [
    "from sklearn.feature_extraction.text import TfidfVectorizer\n",
    "from lightgbm import LGBMClassifier\n",
    "from sklearn.model_selection import RandomizedSearchCV\n",
    "from jcopml.tuning import random_search_params as rsp"
   ]
  },
  {
   "cell_type": "code",
   "execution_count": 22,
   "id": "9eae289a",
   "metadata": {},
   "outputs": [],
   "source": [
    "from jcopml.tuning.space import Integer, Real"
   ]
  },
  {
   "cell_type": "code",
   "execution_count": 23,
   "id": "d994c3dc",
   "metadata": {},
   "outputs": [
    {
     "name": "stdout",
     "output_type": "stream",
     "text": [
      "Fitting 3 folds for each of 100 candidates, totalling 300 fits\n"
     ]
    },
    {
     "name": "stderr",
     "output_type": "stream",
     "text": [
      "[Parallel(n_jobs=-2)]: Using backend LokyBackend with 7 concurrent workers.\n",
      "[Parallel(n_jobs=-2)]: Done  36 tasks      | elapsed:    7.9s\n",
      "[Parallel(n_jobs=-2)]: Done 186 tasks      | elapsed:   15.3s\n",
      "[Parallel(n_jobs=-2)]: Done 300 out of 300 | elapsed:   20.2s finished\n"
     ]
    },
    {
     "name": "stdout",
     "output_type": "stream",
     "text": [
      "{'algo__colsample_bytree': 0.8767930832880343, 'algo__learning_rate': 0.1764396768338155, 'algo__max_depth': 2, 'algo__min_child_samples': 10, 'algo__min_child_weight': 0.0011575995526672772, 'algo__n_estimators': 300, 'algo__num_leaves': 121, 'algo__reg_alpha': 0.44706085467784895, 'algo__reg_lambda': 0.8287522363768162, 'algo__subsample': 0.6187787356776067}\n",
      "0.9824945295404814 0.9321901064135748 0.982532751091703\n"
     ]
    }
   ],
   "source": [
    "pipeline = Pipeline([\n",
    "    ('prep', TfidfVectorizer()),\n",
    "    ('algo', LGBMClassifier(n_jobs=-1, random_state=42))\n",
    "])\n",
    "\n",
    "parameter = {'algo__num_leaves': Integer(low=60, high=300),\n",
    "            'algo__max_depth': Integer(low=1, high=10),\n",
    "            'algo__learning_rate': Real(low=-2, high=0, prior='log-uniform'),\n",
    "            'algo__n_estimators': Integer(low=150, high=300),\n",
    "            'algo__min_child_samples': Integer(low=10, high=40),\n",
    "            'algo__min_child_weight': Real(low=-3, high=-2, prior='log-uniform'),\n",
    "            'algo__subsample': Real(low=0.3, high=0.8, prior='uniform'),\n",
    "            'algo__colsample_bytree': Real(low=0.1, high=1, prior='uniform'),\n",
    "            'algo__reg_alpha': Real(low=-1, high=1, prior='log-uniform'),\n",
    "            'algo__reg_lambda': Real(low=-3, high=1, prior='log-uniform'),\n",
    "}\n",
    "\n",
    "\n",
    "model = RandomizedSearchCV(pipeline, parameter, cv=3,  n_iter= 100, n_jobs=-2, verbose=1, random_state=42)\n",
    "model.fit(X_train, y_train)\n",
    "\n",
    "print(model.best_params_)\n",
    "print(model.score(X_train, y_train), model.best_score_, model.score(X_test, y_test))"
   ]
  },
  {
   "cell_type": "markdown",
   "id": "e7cbc290",
   "metadata": {},
   "source": [
    "# 6. Hyperparameters Tuning"
   ]
  },
  {
   "cell_type": "code",
   "execution_count": 24,
   "id": "443f647f",
   "metadata": {},
   "outputs": [
    {
     "name": "stdout",
     "output_type": "stream",
     "text": [
      "Fitting 3 folds for each of 100 candidates, totalling 300 fits\n"
     ]
    },
    {
     "name": "stderr",
     "output_type": "stream",
     "text": [
      "[Parallel(n_jobs=-2)]: Using backend LokyBackend with 7 concurrent workers.\n",
      "[Parallel(n_jobs=-2)]: Done  36 tasks      | elapsed:    2.0s\n",
      "[Parallel(n_jobs=-2)]: Done 186 tasks      | elapsed:   10.2s\n",
      "[Parallel(n_jobs=-2)]: Done 300 out of 300 | elapsed:   15.1s finished\n"
     ]
    },
    {
     "name": "stdout",
     "output_type": "stream",
     "text": [
      "{'algo__colsample_bytree': 0.14325303177733037, 'algo__learning_rate': 0.7912094453767005, 'algo__max_depth': 4, 'algo__min_child_samples': 11, 'algo__min_child_weight': 0.0018234490096303434, 'algo__n_estimators': 287, 'algo__num_leaves': 206, 'algo__reg_alpha': 1.0145478086525614, 'algo__reg_lambda': 3.710816880757541, 'algo__subsample': 0.6293468158094726}\n",
      "0.9781181619256017 0.9343651136036814 0.982532751091703\n"
     ]
    }
   ],
   "source": [
    "pipeline = Pipeline([\n",
    "    ('prep', TfidfVectorizer()),\n",
    "    ('algo', LGBMClassifier(n_jobs=-1, random_state=42))\n",
    "])\n",
    "\n",
    "parameter = {'algo__num_leaves': Integer(low=60, high=300),\n",
    "            'algo__max_depth': Integer(low=1, high=10),\n",
    "            'algo__learning_rate': Real(low=-2, high=0, prior='log-uniform'),\n",
    "            'algo__n_estimators': Integer(low=150, high=300),\n",
    "            'algo__min_child_samples': Integer(low=10, high=40),\n",
    "            'algo__min_child_weight': Real(low=-3, high=-2, prior='log-uniform'),\n",
    "            'algo__subsample': Real(low=0.3, high=0.8, prior='uniform'),\n",
    "            'algo__colsample_bytree': Real(low=0.1, high=1, prior='uniform'),\n",
    "            'algo__reg_alpha': Real(low=-1, high=1, prior='log-uniform'),\n",
    "            'algo__reg_lambda': Real(low=-2, high=1, prior='log-uniform'),\n",
    "}\n",
    "\n",
    "\n",
    "model = RandomizedSearchCV(pipeline, parameter, cv=3, n_iter= 100, n_jobs=-2, verbose=1, random_state=42)\n",
    "model.fit(X_train, y_train)\n",
    "\n",
    "print(model.best_params_)\n",
    "print(model.score(X_train, y_train), model.best_score_, model.score(X_test, y_test))"
   ]
  },
  {
   "cell_type": "markdown",
   "id": "b593a24b",
   "metadata": {},
   "source": [
    "# 7. Evaluation"
   ]
  },
  {
   "cell_type": "markdown",
   "id": "158543be",
   "metadata": {},
   "source": [
    "## 7.1. Classification Report"
   ]
  },
  {
   "cell_type": "code",
   "execution_count": 25,
   "id": "3fbb3071",
   "metadata": {},
   "outputs": [
    {
     "data": {
      "image/png": "[encoded data removed]",
      "text/plain": [
       "<Figure size 792x360 with 2 Axes>"
      ]
     },
     "metadata": {
      "needs_background": "light"
     },
     "output_type": "display_data"
    }
   ],
   "source": [
    "plot_classification_report(X_train, y_train, X_test, y_test, model)"
   ]
  },
  {
   "cell_type": "code",
   "execution_count": 26,
   "id": "316e8f98",
   "metadata": {},
   "outputs": [
    {
     "name": "stdout",
     "output_type": "stream",
     "text": [
      "Train report\n",
      "              precision    recall  f1-score   support\n",
      "\n",
      "           0       0.97      0.99      0.98       455\n",
      "           1       0.99      0.97      0.98       459\n",
      "\n",
      "    accuracy                           0.98       914\n",
      "   macro avg       0.98      0.98      0.98       914\n",
      "weighted avg       0.98      0.98      0.98       914\n",
      "\n",
      "\n",
      "Test report\n",
      "              precision    recall  f1-score   support\n",
      "\n",
      "           0       0.98      0.98      0.98       114\n",
      "           1       0.98      0.98      0.98       115\n",
      "\n",
      "    accuracy                           0.98       229\n",
      "   macro avg       0.98      0.98      0.98       229\n",
      "weighted avg       0.98      0.98      0.98       229\n",
      "\n"
     ]
    }
   ],
   "source": [
    "plot_classification_report(X_train, y_train, X_test, y_test, model, report=True)"
   ]
  },
  {
   "cell_type": "markdown",
   "id": "75ce1ad1",
   "metadata": {},
   "source": [
    "## 7.2. Confusion Matrix"
   ]
  },
  {
   "cell_type": "code",
   "execution_count": 27,
   "id": "9d794a69",
   "metadata": {},
   "outputs": [
    {
     "data": {
      "image/png": "[encoded data removed]",
      "text/plain": [
       "<Figure size 792x360 with 2 Axes>"
      ]
     },
     "metadata": {
      "needs_background": "light"
     },
     "output_type": "display_data"
    }
   ],
   "source": [
    "plot_confusion_matrix(X_train, y_train, X_test, y_test, model)"
   ]
  },
  {
   "cell_type": "markdown",
   "id": "d0dd4fdd",
   "metadata": {},
   "source": [
    "## 7.3. ROC AUC Curve"
   ]
  },
  {
   "cell_type": "code",
   "execution_count": 28,
   "id": "04fa65a5",
   "metadata": {},
   "outputs": [
    {
     "data": {
      "image/png": "[encoded data removed]",
      "text/plain": [
       "<Figure size 936x432 with 2 Axes>"
      ]
     },
     "metadata": {
      "needs_background": "light"
     },
     "output_type": "display_data"
    }
   ],
   "source": [
    "plot_roc_curve(X_train, y_train, X_test, y_test, model)"
   ]
  },
  {
   "cell_type": "markdown",
   "id": "6c1eabb9",
   "metadata": {},
   "source": [
    "## 7.4. Precision-Recall Curve"
   ]
  },
  {
   "cell_type": "code",
   "execution_count": 29,
   "id": "e67556fd",
   "metadata": {},
   "outputs": [
    {
     "data": {
      "image/png": "[encoded data removed]",
      "text/plain": [
       "<Figure size 936x432 with 2 Axes>"
      ]
     },
     "metadata": {
      "needs_background": "light"
     },
     "output_type": "display_data"
    }
   ],
   "source": [
    "plot_pr_curve(X_train, y_train, X_test, y_test, model)"
   ]
  },
  {
   "cell_type": "markdown",
   "id": "e9062805",
   "metadata": {},
   "source": [
    "# 8. Sanity Check"
   ]
  },
  {
   "cell_type": "code",
   "execution_count": 30,
   "id": "04633e1b",
   "metadata": {},
   "outputs": [
    {
     "data": {
      "text/plain": [
       "(array([1], dtype=int64), array([[0.2403612, 0.7596388]]))"
      ]
     },
     "execution_count": 30,
     "metadata": {},
     "output_type": "execute_result"
    }
   ],
   "source": [
    "text = ['Saynk tlong blikan mama pulsa ke nomr ini: 085283264267632, nnti mama tf blik. in nana pke hp kang sayur']\n",
    "model.predict(text), model.predict_proba(text)"
   ]
  },
  {
   "cell_type": "code",
   "execution_count": 31,
   "id": "f56a52d6",
   "metadata": {},
   "outputs": [
    {
     "data": {
      "text/plain": [
       "(array([0], dtype=int64), array([[0.63825197, 0.36174803]]))"
      ]
     },
     "execution_count": 31,
     "metadata": {},
     "output_type": "execute_result"
    }
   ],
   "source": [
    "text = ['Permisi, Bpk/Ibu Siapa Tahu Butuh Dana INGIN KEMBANGKAN USAHA & Kebutuhan Lain Min 5jt S/D 500 jt Bunga 2% Silakan Whatsapp 08524301662364']\n",
    "model.predict(text), model.predict_proba(text)"
   ]
  },
  {
   "cell_type": "code",
   "execution_count": 32,
   "id": "b56689d2",
   "metadata": {},
   "outputs": [
    {
     "data": {
      "text/plain": [
       "(array([0], dtype=int64), array([[0.97052989, 0.02947011]]))"
      ]
     },
     "execution_count": 32,
     "metadata": {},
     "output_type": "execute_result"
    }
   ],
   "source": [
    "text = ['Di depan indomaret ya, Pak. Terima kasih.']\n",
    "model.predict(text), model.predict_proba(text)"
   ]
  },
  {
   "cell_type": "markdown",
   "id": "4907d0cd",
   "metadata": {},
   "source": [
    "### Result Analysis"
   ]
  },
  {
   "cell_type": "code",
   "execution_count": 33,
   "id": "398cf223",
   "metadata": {},
   "outputs": [
    {
     "data": {
      "text/html": [
       "<div>\n",
       "<style scoped>\n",
       "    .dataframe tbody tr th:only-of-type {\n",
       "        vertical-align: middle;\n",
       "    }\n",
       "\n",
       "    .dataframe tbody tr th {\n",
       "        vertical-align: top;\n",
       "    }\n",
       "\n",
       "    .dataframe thead th {\n",
       "        text-align: right;\n",
       "    }\n",
       "</style>\n",
       "<table border=\"1\" class=\"dataframe\">\n",
       "  <thead>\n",
       "    <tr style=\"text-align: right;\">\n",
       "      <th></th>\n",
       "      <th>Teks</th>\n",
       "      <th>Prediction</th>\n",
       "      <th>Actual</th>\n",
       "    </tr>\n",
       "  </thead>\n",
       "  <tbody>\n",
       "    <tr>\n",
       "      <th>311</th>\n",
       "      <td>info resmi tri care selamat nomor terpilih had...</td>\n",
       "      <td>1</td>\n",
       "      <td>1</td>\n",
       "    </tr>\n",
       "    <tr>\n",
       "      <th>704</th>\n",
       "      <td>ceritanya aja tp tetep bikin nangis</td>\n",
       "      <td>0</td>\n",
       "      <td>0</td>\n",
       "    </tr>\n",
       "    <tr>\n",
       "      <th>8</th>\n",
       "      <td>aktifkan iring coboy jr terhebat tekan 808 7 i...</td>\n",
       "      <td>1</td>\n",
       "      <td>1</td>\n",
       "    </tr>\n",
       "    <tr>\n",
       "      <th>638</th>\n",
       "      <td>assalamualaikum akang teteh lupa ya carrier da...</td>\n",
       "      <td>0</td>\n",
       "      <td>0</td>\n",
       "    </tr>\n",
       "    <tr>\n",
       "      <th>1009</th>\n",
       "      <td>sidang depaaan mel jahaaat pisaaan</td>\n",
       "      <td>0</td>\n",
       "      <td>0</td>\n",
       "    </tr>\n",
       "    <tr>\n",
       "      <th>...</th>\n",
       "      <td>...</td>\n",
       "      <td>...</td>\n",
       "      <td>...</td>\n",
       "    </tr>\n",
       "    <tr>\n",
       "      <th>708</th>\n",
       "      <td>da gapapa public dimasukin</td>\n",
       "      <td>0</td>\n",
       "      <td>0</td>\n",
       "    </tr>\n",
       "    <tr>\n",
       "      <th>911</th>\n",
       "      <td>masak dikosan makan orek buatan min</td>\n",
       "      <td>0</td>\n",
       "      <td>0</td>\n",
       "    </tr>\n",
       "    <tr>\n",
       "      <th>169</th>\n",
       "      <td>paket tsel flash tgl 07/08/2016 diperpanjang d...</td>\n",
       "      <td>1</td>\n",
       "      <td>1</td>\n",
       "    </tr>\n",
       "    <tr>\n",
       "      <th>843</th>\n",
       "      <td>ka ga liat kosannya skrg ngerjain uts take hom...</td>\n",
       "      <td>0</td>\n",
       "      <td>0</td>\n",
       "    </tr>\n",
       "    <tr>\n",
       "      <th>595</th>\n",
       "      <td>panduan pla .. dishare grup fb</td>\n",
       "      <td>0</td>\n",
       "      <td>0</td>\n",
       "    </tr>\n",
       "  </tbody>\n",
       "</table>\n",
       "<p>229 rows × 3 columns</p>\n",
       "</div>"
      ],
      "text/plain": [
       "                                                   Teks  Prediction  Actual\n",
       "311   info resmi tri care selamat nomor terpilih had...           1       1\n",
       "704                 ceritanya aja tp tetep bikin nangis           0       0\n",
       "8     aktifkan iring coboy jr terhebat tekan 808 7 i...           1       1\n",
       "638   assalamualaikum akang teteh lupa ya carrier da...           0       0\n",
       "1009                 sidang depaaan mel jahaaat pisaaan           0       0\n",
       "...                                                 ...         ...     ...\n",
       "708                          da gapapa public dimasukin           0       0\n",
       "911                 masak dikosan makan orek buatan min           0       0\n",
       "169   paket tsel flash tgl 07/08/2016 diperpanjang d...           1       1\n",
       "843   ka ga liat kosannya skrg ngerjain uts take hom...           0       0\n",
       "595                      panduan pla .. dishare grup fb           0       0\n",
       "\n",
       "[229 rows x 3 columns]"
      ]
     },
     "execution_count": 33,
     "metadata": {},
     "output_type": "execute_result"
    }
   ],
   "source": [
    "df_analysis = pd.DataFrame(X_test, columns=['Teks'])\n",
    "df_analysis['Prediction'] = model.predict(X_test)\n",
    "df_analysis['Actual'] = y_test\n",
    "df_analysis"
   ]
  },
  {
   "cell_type": "code",
   "execution_count": 34,
   "id": "d5828d4c",
   "metadata": {},
   "outputs": [
    {
     "data": {
      "text/html": [
       "<div>\n",
       "<style scoped>\n",
       "    .dataframe tbody tr th:only-of-type {\n",
       "        vertical-align: middle;\n",
       "    }\n",
       "\n",
       "    .dataframe tbody tr th {\n",
       "        vertical-align: top;\n",
       "    }\n",
       "\n",
       "    .dataframe thead th {\n",
       "        text-align: right;\n",
       "    }\n",
       "</style>\n",
       "<table border=\"1\" class=\"dataframe\">\n",
       "  <thead>\n",
       "    <tr style=\"text-align: right;\">\n",
       "      <th></th>\n",
       "      <th>Teks</th>\n",
       "      <th>Prediction</th>\n",
       "      <th>Actual</th>\n",
       "    </tr>\n",
       "  </thead>\n",
       "  <tbody>\n",
       "    <tr>\n",
       "      <th>326</th>\n",
       "      <td>rekeningnya bank mandiri a/n ali syamsudin rek...</td>\n",
       "      <td>0</td>\n",
       "      <td>1</td>\n",
       "    </tr>\n",
       "    <tr>\n",
       "      <th>316</th>\n",
       "      <td>angka jitu yg putaran 20/01/2013 hubungi 082-3...</td>\n",
       "      <td>0</td>\n",
       "      <td>1</td>\n",
       "    </tr>\n",
       "  </tbody>\n",
       "</table>\n",
       "</div>"
      ],
      "text/plain": [
       "                                                  Teks  Prediction  Actual\n",
       "326  rekeningnya bank mandiri a/n ali syamsudin rek...           0       1\n",
       "316  angka jitu yg putaran 20/01/2013 hubungi 082-3...           0       1"
      ]
     },
     "execution_count": 34,
     "metadata": {},
     "output_type": "execute_result"
    }
   ],
   "source": [
    "df_analysis[(df_analysis['Prediction'] == 0) & (df_analysis['Actual'] == 1)] "
   ]
  },
  {
   "cell_type": "code",
   "execution_count": 35,
   "id": "4ff95bcd",
   "metadata": {},
   "outputs": [
    {
     "data": {
      "text/html": [
       "<div>\n",
       "<style scoped>\n",
       "    .dataframe tbody tr th:only-of-type {\n",
       "        vertical-align: middle;\n",
       "    }\n",
       "\n",
       "    .dataframe tbody tr th {\n",
       "        vertical-align: top;\n",
       "    }\n",
       "\n",
       "    .dataframe thead th {\n",
       "        text-align: right;\n",
       "    }\n",
       "</style>\n",
       "<table border=\"1\" class=\"dataframe\">\n",
       "  <thead>\n",
       "    <tr style=\"text-align: right;\">\n",
       "      <th></th>\n",
       "      <th>Teks</th>\n",
       "      <th>Prediction</th>\n",
       "      <th>Actual</th>\n",
       "    </tr>\n",
       "  </thead>\n",
       "  <tbody>\n",
       "    <tr>\n",
       "      <th>900</th>\n",
       "      <td>maaf keyword masukkan 234 salah info hub call ...</td>\n",
       "      <td>1</td>\n",
       "      <td>0</td>\n",
       "    </tr>\n",
       "    <tr>\n",
       "      <th>992</th>\n",
       "      <td>pemakaian internet sdh mencapai batasfup kecep...</td>\n",
       "      <td>1</td>\n",
       "      <td>0</td>\n",
       "    </tr>\n",
       "  </tbody>\n",
       "</table>\n",
       "</div>"
      ],
      "text/plain": [
       "                                                  Teks  Prediction  Actual\n",
       "900  maaf keyword masukkan 234 salah info hub call ...           1       0\n",
       "992  pemakaian internet sdh mencapai batasfup kecep...           1       0"
      ]
     },
     "execution_count": 35,
     "metadata": {},
     "output_type": "execute_result"
    }
   ],
   "source": [
    "df_analysis[(df_analysis['Prediction'] == 1) & (df_analysis['Actual'] == 0)] "
   ]
  },
  {
   "cell_type": "markdown",
   "id": "36b0407b",
   "metadata": {},
   "source": [
    "# Save Model"
   ]
  },
  {
   "cell_type": "code",
   "execution_count": 36,
   "id": "8657d421",
   "metadata": {},
   "outputs": [
    {
     "name": "stdout",
     "output_type": "stream",
     "text": [
      "Model is pickled as model/SM_Spam_Classifier_Random_Forest_Classifier.pkl\n"
     ]
    }
   ],
   "source": [
    "save_model(model.best_estimator_, 'SM_Spam_Classifier_Random_Forest_Classifier.pkl')"
   ]
  }
 ],
 "metadata": {
  "kernelspec": {
   "display_name": "Python 3 (ipykernel)",
   "language": "python",
   "name": "python3"
  },
  "language_info": {
   "codemirror_mode": {
    "name": "ipython",
    "version": 3
   },
   "file_extension": ".py",
   "mimetype": "text/x-python",
   "name": "python",
   "nbconvert_exporter": "python",
   "pygments_lexer": "ipython3",
   "version": "3.8.12"
  },
  "varInspector": {
   "cols": {
    "lenName": 16,
    "lenType": 16,
    "lenVar": 40
   },
   "kernels_config": {
    "python": {
     "delete_cmd_postfix": "",
     "delete_cmd_prefix": "del ",
     "library": "var_list.py",
     "varRefreshCmd": "print(var_dic_list())"
    },
    "r": {
     "delete_cmd_postfix": ") ",
     "delete_cmd_prefix": "rm(",
     "library": "var_list.r",
     "varRefreshCmd": "cat(var_dic_list()) "
    }
   },
   "types_to_exclude": [
    "module",
    "function",
    "builtin_function_or_method",
    "instance",
    "_Feature"
   ],
   "window_display": false
  }
 },
 "nbformat": 4,
 "nbformat_minor": 5
}
